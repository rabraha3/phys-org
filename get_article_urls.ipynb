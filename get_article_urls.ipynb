{
 "cells": [
  {
   "cell_type": "code",
   "execution_count": 83,
   "metadata": {},
   "outputs": [],
   "source": [
    "# ! pip install w3lib\n",
    "import requests\n",
    "from bs4 import BeautifulSoup\n",
    "import urllib.request\n",
    "import time\n",
    "from w3lib.html import remove_tags"
   ]
  },
  {
   "cell_type": "code",
   "execution_count": 62,
   "metadata": {},
   "outputs": [],
   "source": [
    "header = {\n",
    "\"user-agent\": \"Mozilla/5.0 (Windows NT 10.0; Win64; x64) AppleWebKit/537.36 (KHTML, like Gecko) Chrome/75.0.3770.142 Safari/537.36\"\n",
    "}"
   ]
  },
  {
   "cell_type": "code",
   "execution_count": 106,
   "metadata": {},
   "outputs": [],
   "source": [
    "url = \"https://m.phys.org/news/2019-09-radio-emission-neutron-star-magnetic.html\"\n",
    "response = requests.get(url, headers=header)"
   ]
  },
  {
   "cell_type": "code",
   "execution_count": 107,
   "metadata": {},
   "outputs": [
    {
     "data": {
      "text/plain": [
       "<Response [200]>"
      ]
     },
     "execution_count": 107,
     "metadata": {},
     "output_type": "execute_result"
    }
   ],
   "source": [
    "response"
   ]
  },
  {
   "cell_type": "code",
   "execution_count": 120,
   "metadata": {},
   "outputs": [],
   "source": [
    "soup = BeautifulSoup(response.text, 'html.parser')\n",
    "for script in soup([\"script\", \"style\"]):\n",
    "    script.extract()    # rip it out\n",
    "\n"
   ]
  },
  {
   "cell_type": "code",
   "execution_count": 124,
   "metadata": {
    "scrolled": false
   },
   "outputs": [],
   "source": [
    "# soup.findAll('p')"
   ]
  },
  {
   "cell_type": "code",
   "execution_count": 134,
   "metadata": {},
   "outputs": [],
   "source": [
    "text = [p.text.strip().replace('\\n', ' ') for p in soup.find('article').find_all('p')]"
   ]
  },
  {
   "cell_type": "code",
   "execution_count": 137,
   "metadata": {
    "scrolled": false
   },
   "outputs": [
    {
     "name": "stdout",
     "output_type": "stream",
     "text": [
      "Pulsars in binary systems are affected by relativistic effects, causing the spin axes of each pulsar to change their direction with time. A research team led by Gregory Desvignes from the Max Planck Institute for Radio Astronomy in Bonn, Germany, has used radio observations of the source PSR J1906+0746 to reconstruct the polarised emission over the pulsar's magnetic pole and to predict the disappearance of the detectable emission by 2028. Observations of this system confirm the validity of a 50-year old model that relates the pulsar's radiation to its geometry. The researchers are also able to precisely measure the rate of change in spin direction and find an excellent agreement with the predictions of Einstein's general theory of relativity. The experiment is the most challenging test to date of this important effect of relativistic spin precession for strongly self-gravitating bodies. Moreover, the reconstructed radio beam shape has implications for the population of neutron stars and the expected rate of neutron star mergers as observed by gravitational wave detectors such as LIGO. The results are published in Science, issue 6 September 2019. Pulsars are fast-spinning neutron stars that concentrate 40 percent more mass than the Sun—or more! – into a small sphere of only about 20 km diameter. They have extremely strong magnetic fields and emit a beam of radio waves along their magnetic axes above each of their opposite magnetic poles. Due to their stable rotation, a lighthouse effect produces pulsed signals that arrive on Earth with the accuracy of an atomic clock. The large mass, the compactness of the source, and the clock-like properties allows astronomers to use them as laboratories to test Einstein's general theory of relativity. Representation of the precessing pulsar J1906+0746 (with the spin vector in red color) around the total angular momentum vector (blue vector). Two radio beams are emitted above the opposite magnetic poles of the pulsar, along the magnetic axis (grey arrow). As the radio beams cross through our line of sight, we can reconstruct the emission maps of the beams as shown with the circular maps at the edges of the two beams. Credit: Gregory Desvignes (MPIfR Bonn / Paris Observatory) The theory predicts that spacetime is curved by massive bodies such as pulsars. One expected consequence is the effect of relativistic spin precession in binary pulsars. The effect arises from a misalignment of the spin vector of each pulsar with respect to the total angular momentum vector of the binary system, and is most likely caused by an asymmetric supernova explosion. This precession causes the viewing geometry to vary, which can be tested observationally by monitoring systematic changes in the observed pulse profile. Evidence for a variable pulse profile attributed to changes in the viewing geometry caused by spin precession have been observed and modeled in the Nobel-prize winning Hulse-Taylor binary pulsar B1913+16. Other binary pulsars also show the effect, but none of them has allowed studies at the precision and level of detail obtainable with PSR J1906+0746. The target is a young pulsar with a spin period of 144 milliseconds in a 4-hour orbit around another neutron star in the direction of the constellation Aquila (the Eagle), pretty close to the plane of the Milky Way. \"PSR J1906+0746 is a unique laboratory in which we can simultaneously constrain the radio pulsar emission physics and test Einstein's general theory of relativity,\" says Gregory Desvignes from the Max Planck Institute for Radio Astronomy (MPIfR) in Bonn, the first author of the study. The research team monitored the pulsar from 2012 to 2018 with the 305-m Arecibo radio telescope at a frequency of 1.4 GHz. Those observations were supplemented with archival data from the Nançay and Arecibo radio telescopes recorded between 2005 and 2009. In total, the available dataset comprises 47 epochs spanning from July 2005 to June 2018. The team noticed that initially it was possible to observe the pulsar's opposite magnetic poles, when both Northern and Southern beams (referred to as the main pulse and interpulse in the study) were pointed to Earth once per rotation. With time, the Northern beam disappeared and only the Southern beam remained visible. Based on a detailed study of the polarization information of the received emission, it was possible to apply a 50-year old model, predicting that the polarization properties encoded information about the geometry of the pulsar. The pulsar data validated the model and also allowed the team to measure the rate of precession with only 5 percent uncertainty level, tighter than the precession rate measurement in the Double Pulsar system, a reference system for such tests so far. The measured value agrees perfectly with the prediction of Einstein's theory. \"Pulsars can provide tests of gravity that cannot be done in any other way,\" says Ingrid Stairs from the University of British Columbia in Vancouver, a co-author of the study. \"This is one more beautiful example of such a test.\" Moreover, the team can predict the disappearance and reappearance of both, Northern and Southern beam of PSR J1906+0746. The Southern beam will disappear from the line of sight around 2028 and reappear between 2070 to 2090. The Northern beam should reappear around 2085–2105. The 14-year-long experiment also provided exciting insight into the little-understood workings of pulsars themselves. The team realized that our Earth's line of sight had crossed the magnetic pole in a North-South direction, allowing not only a map of the pulsar beam, but also a study of the conditions for radio emission right above the magnetic pole. \" It is very gratifying that, after several decades, our line of sight is crossing a pulsar's magnetic pole for the first time, demonstrating the validity of a model proposed in 1969,\" explains Kejia Lee from the Kavli Institute for Astronomy and Astrophysics, Peking University, Beijing, another co-author of the paper. \"In contrast, the beam shape is really irregular and unexpected.\" The beam map reveals the true extent of the pulsar beam which determines the portion of sky illuminated by the beam. This parameter affects the predicted number of the galactic double neutron stars population and, hence, the expected gravitational wave detection rate for neutron star mergers. \"The experiment took us a long time to complete,\" concludes Michael Kramer, director and head of MPIfR's \"Fundamental Physics in Radio Astronomy\" research department. \"These days, sadly, results have to be often quick and fast, whereas this pulsar teaches us so much. Being patient and diligent has really paid off.\" More information: Gregory Desvignes et al. Radio emission from a pulsar's magnetic pole revealed by general relativity, Science (2019). DOI: 10.1126/science.aav7272 Journal information: Science Provided by Max Planck Society The experiment is the most challenging test to date of this important effect of relativistic spin precession for strongly self-gravitating bodies. Moreover, the reconstructed radio beam shape has implications for the population of neutron stars and the expected rate of neutron star mergers as observed by gravitational wave detectors such as LIGO. The results are published in Science, issue 6 September 2019. Pulsars are fast-spinning neutron stars that concentrate 40 percent more mass than the Sun—or more! – into a small sphere of only about 20 km diameter. They have extremely strong magnetic fields and emit a beam of radio waves along their magnetic axes above each of their opposite magnetic poles. Due to their stable rotation, a lighthouse effect produces pulsed signals that arrive on Earth with the accuracy of an atomic clock. The large mass, the compactness of the source, and the clock-like properties allows astronomers to use them as laboratories to test Einstein's general theory of relativity. The theory predicts that spacetime is curved by massive bodies such as pulsars. One expected consequence is the effect of relativistic spin precession in binary pulsars. The effect arises from a misalignment of the spin vector of each pulsar with respect to the total angular momentum vector of the binary system, and is most likely caused by an asymmetric supernova explosion. This precession causes the viewing geometry to vary, which can be tested observationally by monitoring systematic changes in the observed pulse profile. Evidence for a variable pulse profile attributed to changes in the viewing geometry caused by spin precession have been observed and modeled in the Nobel-prize winning Hulse-Taylor binary pulsar B1913+16. Other binary pulsars also show the effect, but none of them has allowed studies at the precision and level of detail obtainable with PSR J1906+0746. The target is a young pulsar with a spin period of 144 milliseconds in a 4-hour orbit around another neutron star in the direction of the constellation Aquila (the Eagle), pretty close to the plane of the Milky Way. \"PSR J1906+0746 is a unique laboratory in which we can simultaneously constrain the radio pulsar emission physics and test Einstein's general theory of relativity,\" says Gregory Desvignes from the Max Planck Institute for Radio Astronomy (MPIfR) in Bonn, the first author of the study. The research team monitored the pulsar from 2012 to 2018 with the 305-m Arecibo radio telescope at a frequency of 1.4 GHz. Those observations were supplemented with archival data from the Nançay and Arecibo radio telescopes recorded between 2005 and 2009. In total, the available dataset comprises 47 epochs spanning from July 2005 to June 2018. The team noticed that initially it was possible to observe the pulsar's opposite magnetic poles, when both Northern and Southern beams (referred to as the main pulse and interpulse in the study) were pointed to Earth once per rotation. With time, the Northern beam disappeared and only the Southern beam remained visible. Based on a detailed study of the polarization information of the received emission, it was possible to apply a 50-year old model, predicting that the polarization properties encoded information about the geometry of the pulsar. The pulsar data validated the model and also allowed the team to measure the rate of precession with only 5 percent uncertainty level, tighter than the precession rate measurement in the Double Pulsar system, a reference system for such tests so far. The measured value agrees perfectly with the prediction of Einstein's theory. \"Pulsars can provide tests of gravity that cannot be done in any other way,\" says Ingrid Stairs from the University of British Columbia in Vancouver, a co-author of the study. \"This is one more beautiful example of such a test.\" Moreover, the team can predict the disappearance and reappearance of both, Northern and Southern beam of PSR J1906+0746. The Southern beam will disappear from the line of sight around 2028 and reappear between 2070 to 2090. The Northern beam should reappear around 2085–2105. The 14-year-long experiment also provided exciting insight into the little-understood workings of pulsars themselves. The team realized that our Earth's line of sight had crossed the magnetic pole in a North-South direction, allowing not only a map of the pulsar beam, but also a study of the conditions for radio emission right above the magnetic pole. \" It is very gratifying that, after several decades, our line of sight is crossing a pulsar's magnetic pole for the first time, demonstrating the validity of a model proposed in 1969,\" explains Kejia Lee from the Kavli Institute for Astronomy and Astrophysics, Peking University, Beijing, another co-author of the paper. \"In contrast, the beam shape is really irregular and unexpected.\" The beam map reveals the true extent of the pulsar beam which determines the portion of sky illuminated by the beam. This parameter affects the predicted number of the galactic double neutron stars population and, hence, the expected gravitational wave detection rate for neutron star mergers. \"The experiment took us a long time to complete,\" concludes Michael Kramer, director and head of MPIfR's \"Fundamental Physics in Radio Astronomy\" research department. \"These days, sadly, results have to be often quick and fast, whereas this pulsar teaches us so much. Being patient and diligent has really paid off.\" More information: Gregory Desvignes et al. Radio emission from a pulsar's magnetic pole revealed by general relativity, Science (2019). DOI: 10.1126/science.aav7272 Journal information: Science Provided by Max Planck Society More information: Gregory Desvignes et al. Radio emission from a pulsar's magnetic pole revealed by general relativity, Science (2019). DOI: 10.1126/science.aav7272 Journal information: Science Provided by Max Planck Society\n"
     ]
    }
   ],
   "source": [
    "content = \" \".join(text)\n",
    "content = \" \".join(content.split())\n",
    "print(content)"
   ]
  },
  {
   "cell_type": "code",
   "execution_count": 138,
   "metadata": {},
   "outputs": [],
   "source": [
    "# url = \"https://m.phys.org/news/2019-09-radio-emission-neutron-star-magnetic.html\"\n",
    "def site_content_grabber(url):\n",
    "    \n",
    "    '''Grabs the content text from a given url'''\n",
    "    \n",
    "    header = {\n",
    "    \"user-agent\": \"Mozilla/5.0 (Windows NT 10.0; Win64; x64) AppleWebKit/537.36 (KHTML, like Gecko) Chrome/75.0.3770.142 Safari/537.36\"\n",
    "    }\n",
    "    response = requests.get(url, headers=header)\n",
    "    soup = BeautifulSoup(response.text, 'html.parser')\n",
    "    for script in soup([\"script\", \"style\"]):\n",
    "        script.extract()    # rip it out\n",
    "    text = [p.text.strip().replace('\\n', ' ') for p in soup.find('article').find_all('p')]\n",
    "    content = \" \".join(text)\n",
    "    content = \" \".join(content.split())\n",
    "    return content"
   ]
  },
  {
   "cell_type": "code",
   "execution_count": 139,
   "metadata": {
    "scrolled": true
   },
   "outputs": [
    {
     "data": {
      "text/plain": [
       "'Native Hawaiians who participated in a blood-pressure-lowering program incorporating their cultural dance of hula lowered their blood pressure more than those who received standard education on diet and exercise, according to preliminary research presented at the American Heart Association\\'s Hypertension 2019 Scientific Sessions. \"Despite medical treatment of hypertension, many Native Hawaiians have difficulty controlling their high blood pressure, which increases their risk for coronary heart disease and stroke,\" said Keawe\\'aimoku Kaholokula, Ph.D., lead author of the study and professor and chair of the department of Native Hawaiian health at the University of Hawaii at Manoa in Honolulu. \"The rates of heart disease and stroke are four times higher among Native Hawaiians than in non-Hispanic whites, and they also get these diseases 10 years younger than whites and Asians in Hawaii.\" In previous research, Kaholokula and his colleagues found that typical lifestyle programs aimed at lowering blood pressure are less attractive to Native Hawaiians, who find the activity components boring or expensive and the dietary goals unrealistic and difficult to sustain over time. \"We found that Native Hawaiians want group-based and culturally relevant lifestyle interventions that resonate with their cultural values and perspectives,\" Kaholokula said. \"We created an intervention based on hula, the traditional dance of Native Hawaiians, which can be performed at different levels of intensity by men and women of all ages and is practiced as a form of cultural and creative expression.\" The researchers recruited more than 250 Native Hawaiians (average age 58 years, 80% female) who, although under medical treatment for high blood pressure, still had a systolic (top number) blood pressure of 140mmHg or higher or had a systolic blood pressure of 130mmHg or higher and also had type 2 diabetes. After three one-hour sessions of hypertension education that included information on diet, exercise and the use of medications, participants were randomly assigned to a control group that received no further additional intervention or to the hula intervention. Hula participants attended one-hour group hula classes twice a week for three months, followed by one monthly lesson for three additional months with self-directed practice, as well as group activities to reinforce hypertension education and healthy behaviors. All participants continued their usual medical treatment during the study. After adjusting for the participants\\' weight and blood pressure at the start of the study, at six months, researchers found that, compared with people in the control group, those who did hula were: More likely to have lowered their blood pressure to under 130/80 mmHg, the current target for blood pressure treatment for patients without diabetes;More likely to have lowered their systolic (top number) blood pressure more than 10 mmHg, an amount that significantly reduces the risk of heart attack, stroke and heart failure; andAble to sustain their improvements in blood pressure at one-year follow-up, which was six months after the study\\'s hula classes ended. \"The participants said the hula was fun and helped meet their spiritual and cultural needs,\" Kaholokula said. \"More than 80% stayed with the program for six months and 77% were still at it 12 months in, which reflects high interest in a culturally grounded program like this.\" \"These results reinforce the idea that for most people, the best physical activity for your health is one that makes you breathe a little faster and gets your heart beating a little faster,\" said David Goff, M.D., Ph.D., Director of the Division of Cardiovascular Sciences at the National Heart, Lung, and Blood Institute, part of the National Institutes of Health which funded the study. \"Whether that\\'s dancing, biking, swimming, surfing, or hiking, the key is to move more and more often. Being active with friends and family can help sustain the healthy fun over time.\" \"While the physical benefits of dancing hula are clear, other positive impacts include creating family-like social support and increasing self-confidence and acceptance of others,\" said Mapuana de Silva, a cultural expert on hula and a consultant to the study. \"This all comes from the essential cultural value of aloha which is fundamental to hula.\" Although the study was conducted in Native Hawaiians, results may apply to other groups. \"Other similar cultural activities, especially those that include physical activity that meets national guidelines, and social and cultural activities that engage and empower people to make behavioral changes, could be used in a similar fashion in other indigenous groups such as American Indians, Alaska Natives, First Nation People in Canada, Maori in New Zealand, Aboriginals of Australia and many others,\" Kaholokula said. \"This study is a great example of how interventions can be more effective when tailored for cultural relevance to participants,\" said the American Heart Association\\'s Chief Medical Officer for Prevention Eduardo Sanchez, M.D., M.P.H. \"Not only are people achieving health-promoting levels of physical activity, they are also having fun, engaging in a valued cultural practice, and connecting with their community in the group classes—all important for well-being. This is an approach that can easily be applied to other groups and dancing styles, such as ballroom dancing, line dancing or salsa dancing. It supports the American Heart Association\\'s philosophy to meet people where they are to help them live longer, healthier lives.\" More information: American Heart Association Meeting Report – Presentation #P3054; Session APS.3.4 Provided by American Heart Association \"Despite medical treatment of hypertension, many Native Hawaiians have difficulty controlling their high blood pressure, which increases their risk for coronary heart disease and stroke,\" said Keawe\\'aimoku Kaholokula, Ph.D., lead author of the study and professor and chair of the department of Native Hawaiian health at the University of Hawaii at Manoa in Honolulu. \"The rates of heart disease and stroke are four times higher among Native Hawaiians than in non-Hispanic whites, and they also get these diseases 10 years younger than whites and Asians in Hawaii.\" In previous research, Kaholokula and his colleagues found that typical lifestyle programs aimed at lowering blood pressure are less attractive to Native Hawaiians, who find the activity components boring or expensive and the dietary goals unrealistic and difficult to sustain over time. \"We found that Native Hawaiians want group-based and culturally relevant lifestyle interventions that resonate with their cultural values and perspectives,\" Kaholokula said. \"We created an intervention based on hula, the traditional dance of Native Hawaiians, which can be performed at different levels of intensity by men and women of all ages and is practiced as a form of cultural and creative expression.\" The researchers recruited more than 250 Native Hawaiians (average age 58 years, 80% female) who, although under medical treatment for high blood pressure, still had a systolic (top number) blood pressure of 140mmHg or higher or had a systolic blood pressure of 130mmHg or higher and also had type 2 diabetes. After three one-hour sessions of hypertension education that included information on diet, exercise and the use of medications, participants were randomly assigned to a control group that received no further additional intervention or to the hula intervention. Hula participants attended one-hour group hula classes twice a week for three months, followed by one monthly lesson for three additional months with self-directed practice, as well as group activities to reinforce hypertension education and healthy behaviors. All participants continued their usual medical treatment during the study. After adjusting for the participants\\' weight and blood pressure at the start of the study, at six months, researchers found that, compared with people in the control group, those who did hula were: \"The participants said the hula was fun and helped meet their spiritual and cultural needs,\" Kaholokula said. \"More than 80% stayed with the program for six months and 77% were still at it 12 months in, which reflects high interest in a culturally grounded program like this.\" \"These results reinforce the idea that for most people, the best physical activity for your health is one that makes you breathe a little faster and gets your heart beating a little faster,\" said David Goff, M.D., Ph.D., Director of the Division of Cardiovascular Sciences at the National Heart, Lung, and Blood Institute, part of the National Institutes of Health which funded the study. \"Whether that\\'s dancing, biking, swimming, surfing, or hiking, the key is to move more and more often. Being active with friends and family can help sustain the healthy fun over time.\" \"While the physical benefits of dancing hula are clear, other positive impacts include creating family-like social support and increasing self-confidence and acceptance of others,\" said Mapuana de Silva, a cultural expert on hula and a consultant to the study. \"This all comes from the essential cultural value of aloha which is fundamental to hula.\" Although the study was conducted in Native Hawaiians, results may apply to other groups. \"Other similar cultural activities, especially those that include physical activity that meets national guidelines, and social and cultural activities that engage and empower people to make behavioral changes, could be used in a similar fashion in other indigenous groups such as American Indians, Alaska Natives, First Nation People in Canada, Maori in New Zealand, Aboriginals of Australia and many others,\" Kaholokula said. \"This study is a great example of how interventions can be more effective when tailored for cultural relevance to participants,\" said the American Heart Association\\'s Chief Medical Officer for Prevention Eduardo Sanchez, M.D., M.P.H. \"Not only are people achieving health-promoting levels of physical activity, they are also having fun, engaging in a valued cultural practice, and connecting with their community in the group classes—all important for well-being. This is an approach that can easily be applied to other groups and dancing styles, such as ballroom dancing, line dancing or salsa dancing. It supports the American Heart Association\\'s philosophy to meet people where they are to help them live longer, healthier lives.\" More information: American Heart Association Meeting Report – Presentation #P3054; Session APS.3.4 Provided by American Heart Association More information: American Heart Association Meeting Report – Presentation #P3054; Session APS.3.4 Provided by American Heart Association'"
      ]
     },
     "execution_count": 139,
     "metadata": {},
     "output_type": "execute_result"
    }
   ],
   "source": [
    "site_content_grabber('https://m.medicalxpress.com/news/2019-09-native-hawaiians-lowered-blood-pressure.html')"
   ]
  },
  {
   "cell_type": "markdown",
   "metadata": {},
   "source": [
    "Next steps, grab the tags such as cardiology. Then store data into AWS. "
   ]
  },
  {
   "cell_type": "code",
   "execution_count": null,
   "metadata": {},
   "outputs": [],
   "source": []
  }
 ],
 "metadata": {
  "kernelspec": {
   "display_name": "Python 3",
   "language": "python",
   "name": "python3"
  },
  "language_info": {
   "codemirror_mode": {
    "name": "ipython",
    "version": 3
   },
   "file_extension": ".py",
   "mimetype": "text/x-python",
   "name": "python",
   "nbconvert_exporter": "python",
   "pygments_lexer": "ipython3",
   "version": "3.7.3"
  }
 },
 "nbformat": 4,
 "nbformat_minor": 2
}
