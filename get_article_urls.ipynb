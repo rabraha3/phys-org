{
 "cells": [
  {
   "cell_type": "code",
   "execution_count": 83,
   "metadata": {},
   "outputs": [],
   "source": [
    "# ! pip install w3lib\n",
    "import requests\n",
    "from bs4 import BeautifulSoup\n",
    "import urllib.request\n",
    "import time\n",
    "from w3lib.html import remove_tags"
   ]
  },
  {
   "cell_type": "code",
   "execution_count": 62,
   "metadata": {},
   "outputs": [],
   "source": [
    "header = {\n",
    "\"user-agent\": \"Mozilla/5.0 (Windows NT 10.0; Win64; x64) AppleWebKit/537.36 (KHTML, like Gecko) Chrome/75.0.3770.142 Safari/537.36\"\n",
    "}"
   ]
  },
  {
   "cell_type": "code",
   "execution_count": 106,
   "metadata": {},
   "outputs": [],
   "source": [
    "url = \"https://m.phys.org/news/2019-09-radio-emission-neutron-star-magnetic.html\"\n",
    "response = requests.get(url, headers=header)"
   ]
  },
  {
   "cell_type": "code",
   "execution_count": 107,
   "metadata": {},
   "outputs": [
    {
     "data": {
      "text/plain": [
       "<Response [200]>"
      ]
     },
     "execution_count": 107,
     "metadata": {},
     "output_type": "execute_result"
    }
   ],
   "source": [
    "response"
   ]
  },
  {
   "cell_type": "code",
   "execution_count": 120,
   "metadata": {},
   "outputs": [],
   "source": [
    "soup = BeautifulSoup(response.text, 'html.parser')\n",
    "for script in soup([\"script\", \"style\"]):\n",
    "    script.extract()    # rip it out\n",
    "\n"
   ]
  },
  {
   "cell_type": "code",
   "execution_count": 124,
   "metadata": {
    "scrolled": false
   },
   "outputs": [],
   "source": [
    "# soup.findAll('p')"
   ]
  },
  {
   "cell_type": "code",
   "execution_count": 134,
   "metadata": {},
   "outputs": [],
   "source": [
    "text = [p.text.strip().replace('\\n', ' ') for p in soup.find('article').find_all('p')]"
   ]
  },
  {
   "cell_type": "code",
   "execution_count": 136,
   "metadata": {
    "scrolled": false
   },
   "outputs": [
    {
     "data": {
      "text/plain": [
       "'Pulsars in binary systems are affected by relativistic effects, causing the spin axes of each pulsar to change their direction with time. A research team led by Gregory Desvignes from the Max Planck Institute for Radio Astronomy in Bonn, Germany, has used radio observations of the source PSR J1906+0746 to reconstruct the polarised emission over the pulsar\\'s magnetic pole and to predict the disappearance of the detectable emission by 2028. Observations of this system confirm the validity of a 50-year old model that relates the pulsar\\'s radiation to its geometry. The researchers are also able to precisely measure the rate of change in spin direction and find an excellent agreement with the predictions of Einstein\\'s general theory of relativity. The experiment is the most challenging test to date of this important effect of relativistic spin precession for strongly self-gravitating bodies. Moreover, the reconstructed radio beam shape has implications for the population of neutron stars and the expected rate of neutron star mergers as observed by gravitational wave detectors such as LIGO. The results are published in Science, issue 6 September 2019. Pulsars are fast-spinning neutron stars that concentrate 40 percent more mass than the Sun—or more! – into a small sphere of only about 20 km diameter. They have extremely strong magnetic fields and emit a beam of radio waves along their magnetic axes above each of their opposite magnetic poles. Due to their stable rotation, a lighthouse effect produces pulsed signals that arrive on Earth with the accuracy of an atomic clock. The large mass, the compactness of the source, and the clock-like properties allows astronomers to use them as laboratories to test Einstein\\'s general theory of relativity. Representation of the precessing pulsar J1906+0746 (with the spin vector in red color) around the total angular momentum vector (blue vector). Two radio beams are emitted above the opposite magnetic poles of the pulsar, along the magnetic axis (grey arrow). As the radio beams cross through our line of sight, we can reconstruct the emission maps of the beams as shown with the circular maps at the edges of the two beams. Credit: Gregory Desvignes (MPIfR Bonn / Paris Observatory) The theory predicts that spacetime is curved by massive bodies such as pulsars. One expected consequence is the effect of relativistic spin precession in binary pulsars. The effect arises from a misalignment of the spin vector of each pulsar with respect to the total angular momentum vector of the binary system, and is most likely caused by an asymmetric supernova explosion. This precession causes the viewing geometry to vary, which can be tested observationally by monitoring systematic changes in the observed pulse profile. Evidence for a variable pulse profile attributed to changes in the viewing geometry caused by spin precession have been observed and modeled in the Nobel-prize winning Hulse-Taylor binary pulsar B1913+16. Other binary pulsars also show the effect, but none of them has allowed studies at the precision and level of detail obtainable with PSR J1906+0746. The target is a young pulsar with a spin period of 144 milliseconds in a 4-hour orbit around another neutron star in the direction of the constellation Aquila (the Eagle), pretty close to the plane of the Milky Way. \"PSR J1906+0746 is a unique laboratory in which we can simultaneously constrain the radio pulsar emission physics and test Einstein\\'s general theory of relativity,\" says Gregory Desvignes from the Max Planck Institute for Radio Astronomy (MPIfR) in Bonn, the first author of the study. The research team monitored the pulsar from 2012 to 2018 with the 305-m Arecibo radio telescope at a frequency of 1.4 GHz. Those observations were supplemented with archival data from the Nançay and Arecibo radio telescopes recorded between 2005 and 2009. In total, the available dataset comprises 47 epochs spanning from July 2005 to June 2018. The team noticed that initially it was possible to observe the pulsar\\'s opposite magnetic poles, when both Northern and Southern beams (referred to as the main pulse and interpulse in the study) were pointed to Earth once per rotation. With time, the Northern beam disappeared and only the Southern beam remained visible. Based on a detailed study of the polarization information of the received emission, it was possible to apply a 50-year old model, predicting that the polarization properties encoded information about the geometry of the pulsar. The pulsar data validated the model and also allowed the team to measure the rate of precession with only 5 percent uncertainty level, tighter than the precession rate measurement in the Double Pulsar system, a reference system for such tests so far. The measured value agrees perfectly with the prediction of Einstein\\'s theory. \"Pulsars can provide tests of gravity that cannot be done in any other way,\" says Ingrid Stairs from the University of British Columbia in Vancouver, a co-author of the study. \"This is one more beautiful example of such a test.\" Moreover, the team can predict the disappearance and reappearance of both, Northern and Southern beam of PSR J1906+0746. The Southern beam will disappear from the line of sight around 2028 and reappear between 2070 to 2090. The Northern beam should reappear around 2085–2105. The 14-year-long experiment also provided exciting insight into the little-understood workings of pulsars themselves. The team realized that our Earth\\'s line of sight had crossed the magnetic pole in a North-South direction, allowing not only a map of the pulsar beam, but also a study of the conditions for radio emission right above the magnetic pole. \" It is very gratifying that, after several decades, our line of sight is crossing a pulsar\\'s magnetic pole for the first time, demonstrating the validity of a model proposed in 1969,\" explains Kejia Lee from the Kavli Institute for Astronomy and Astrophysics, Peking University, Beijing, another co-author of the paper. \"In contrast, the beam shape is really irregular and unexpected.\" The beam map reveals the true extent of the pulsar beam which determines the portion of sky illuminated by the beam. This parameter affects the predicted number of the galactic double neutron stars population and, hence, the expected gravitational wave detection rate for neutron star mergers. \"The experiment took us a long time to complete,\" concludes Michael Kramer, director and head of MPIfR\\'s \"Fundamental Physics in Radio Astronomy\" research department. \"These days, sadly, results have to be often quick and fast, whereas this pulsar teaches us so much. Being patient and diligent has really paid off.\" More information: Gregory Desvignes et al. Radio emission from a pulsar\\'s magnetic pole revealed by general relativity, Science (2019). DOI: 10.1126/science.aav7272 Journal information: Science Provided by Max Planck Society The experiment is the most challenging test to date of this important effect of relativistic spin precession for strongly self-gravitating bodies. Moreover, the reconstructed radio beam shape has implications for the population of neutron stars and the expected rate of neutron star mergers as observed by gravitational wave detectors such as LIGO. The results are published in Science, issue 6 September 2019. Pulsars are fast-spinning neutron stars that concentrate 40 percent more mass than the Sun—or more! – into a small sphere of only about 20 km diameter. They have extremely strong magnetic fields and emit a beam of radio waves along their magnetic axes above each of their opposite magnetic poles. Due to their stable rotation, a lighthouse effect produces pulsed signals that arrive on Earth with the accuracy of an atomic clock. The large mass, the compactness of the source, and the clock-like properties allows astronomers to use them as laboratories to test Einstein\\'s general theory of relativity. The theory predicts that spacetime is curved by massive bodies such as pulsars. One expected consequence is the effect of relativistic spin precession in binary pulsars. The effect arises from a misalignment of the spin vector of each pulsar with respect to the total angular momentum vector of the binary system, and is most likely caused by an asymmetric supernova explosion. This precession causes the viewing geometry to vary, which can be tested observationally by monitoring systematic changes in the observed pulse profile. Evidence for a variable pulse profile attributed to changes in the viewing geometry caused by spin precession have been observed and modeled in the Nobel-prize winning Hulse-Taylor binary pulsar B1913+16. Other binary pulsars also show the effect, but none of them has allowed studies at the precision and level of detail obtainable with PSR J1906+0746. The target is a young pulsar with a spin period of 144 milliseconds in a 4-hour orbit around another neutron star in the direction of the constellation Aquila (the Eagle), pretty close to the plane of the Milky Way. \"PSR J1906+0746 is a unique laboratory in which we can simultaneously constrain the radio pulsar emission physics and test Einstein\\'s general theory of relativity,\" says Gregory Desvignes from the Max Planck Institute for Radio Astronomy (MPIfR) in Bonn, the first author of the study. The research team monitored the pulsar from 2012 to 2018 with the 305-m Arecibo radio telescope at a frequency of 1.4 GHz. Those observations were supplemented with archival data from the Nançay and Arecibo radio telescopes recorded between 2005 and 2009. In total, the available dataset comprises 47 epochs spanning from July 2005 to June 2018. The team noticed that initially it was possible to observe the pulsar\\'s opposite magnetic poles, when both Northern and Southern beams (referred to as the main pulse and interpulse in the study) were pointed to Earth once per rotation. With time, the Northern beam disappeared and only the Southern beam remained visible. Based on a detailed study of the polarization information of the received emission, it was possible to apply a 50-year old model, predicting that the polarization properties encoded information about the geometry of the pulsar. The pulsar data validated the model and also allowed the team to measure the rate of precession with only 5 percent uncertainty level, tighter than the precession rate measurement in the Double Pulsar system, a reference system for such tests so far. The measured value agrees perfectly with the prediction of Einstein\\'s theory. \"Pulsars can provide tests of gravity that cannot be done in any other way,\" says Ingrid Stairs from the University of British Columbia in Vancouver, a co-author of the study. \"This is one more beautiful example of such a test.\" Moreover, the team can predict the disappearance and reappearance of both, Northern and Southern beam of PSR J1906+0746. The Southern beam will disappear from the line of sight around 2028 and reappear between 2070 to 2090. The Northern beam should reappear around 2085–2105. The 14-year-long experiment also provided exciting insight into the little-understood workings of pulsars themselves. The team realized that our Earth\\'s line of sight had crossed the magnetic pole in a North-South direction, allowing not only a map of the pulsar beam, but also a study of the conditions for radio emission right above the magnetic pole. \" It is very gratifying that, after several decades, our line of sight is crossing a pulsar\\'s magnetic pole for the first time, demonstrating the validity of a model proposed in 1969,\" explains Kejia Lee from the Kavli Institute for Astronomy and Astrophysics, Peking University, Beijing, another co-author of the paper. \"In contrast, the beam shape is really irregular and unexpected.\" The beam map reveals the true extent of the pulsar beam which determines the portion of sky illuminated by the beam. This parameter affects the predicted number of the galactic double neutron stars population and, hence, the expected gravitational wave detection rate for neutron star mergers. \"The experiment took us a long time to complete,\" concludes Michael Kramer, director and head of MPIfR\\'s \"Fundamental Physics in Radio Astronomy\" research department. \"These days, sadly, results have to be often quick and fast, whereas this pulsar teaches us so much. Being patient and diligent has really paid off.\" More information: Gregory Desvignes et al. Radio emission from a pulsar\\'s magnetic pole revealed by general relativity, Science (2019). DOI: 10.1126/science.aav7272 Journal information: Science Provided by Max Planck Society More information: Gregory Desvignes et al. Radio emission from a pulsar\\'s magnetic pole revealed by general relativity, Science (2019). DOI: 10.1126/science.aav7272 Journal information: Science Provided by Max Planck Society'"
      ]
     },
     "execution_count": 136,
     "metadata": {},
     "output_type": "execute_result"
    }
   ],
   "source": [
    "content = \" \".join(text)\n",
    "conte\" \".join(content.split())"
   ]
  },
  {
   "cell_type": "code",
   "execution_count": null,
   "metadata": {},
   "outputs": [],
   "source": []
  },
  {
   "cell_type": "code",
   "execution_count": null,
   "metadata": {},
   "outputs": [],
   "source": []
  },
  {
   "cell_type": "code",
   "execution_count": null,
   "metadata": {},
   "outputs": [],
   "source": []
  }
 ],
 "metadata": {
  "kernelspec": {
   "display_name": "Python 3",
   "language": "python",
   "name": "python3"
  },
  "language_info": {
   "codemirror_mode": {
    "name": "ipython",
    "version": 3
   },
   "file_extension": ".py",
   "mimetype": "text/x-python",
   "name": "python",
   "nbconvert_exporter": "python",
   "pygments_lexer": "ipython3",
   "version": "3.7.3"
  }
 },
 "nbformat": 4,
 "nbformat_minor": 2
}
