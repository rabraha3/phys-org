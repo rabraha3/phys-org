{
 "cells": [
  {
   "cell_type": "code",
   "execution_count": 83,
   "metadata": {},
   "outputs": [],
   "source": [
    "# ! pip install w3lib\n",
    "import requests\n",
    "from bs4 import BeautifulSoup\n",
    "import urllib.request\n",
    "import time\n",
    "from w3lib.html import remove_tags"
   ]
  },
  {
   "cell_type": "code",
   "execution_count": 62,
   "metadata": {},
   "outputs": [],
   "source": [
    "header = {\n",
    "\"user-agent\": \"Mozilla/5.0 (Windows NT 10.0; Win64; x64) AppleWebKit/537.36 (KHTML, like Gecko) Chrome/75.0.3770.142 Safari/537.36\"\n",
    "}"
   ]
  },
  {
   "cell_type": "code",
   "execution_count": 106,
   "metadata": {},
   "outputs": [],
   "source": [
    "url = \"https://m.phys.org/news/2019-09-radio-emission-neutron-star-magnetic.html\"\n",
    "response = requests.get(url, headers=header)"
   ]
  },
  {
   "cell_type": "code",
   "execution_count": 107,
   "metadata": {},
   "outputs": [
    {
     "data": {
      "text/plain": [
       "<Response [200]>"
      ]
     },
     "execution_count": 107,
     "metadata": {},
     "output_type": "execute_result"
    }
   ],
   "source": [
    "response"
   ]
  },
  {
   "cell_type": "code",
   "execution_count": 114,
   "metadata": {},
   "outputs": [],
   "source": [
    "soup = BeautifulSoup(response.text, 'html.parser')\n",
    "# kill all script and style elements\n",
    "for script in soup([\"script\", \"style\"]):\n",
    "    script.extract()    # rip it out\n"
   ]
  },
  {
   "cell_type": "code",
   "execution_count": 115,
   "metadata": {},
   "outputs": [
    {
     "data": {
      "text/plain": [
       "[<p>Pulsars in binary systems are affected by relativistic effects, causing the spin axes of each pulsar to change their direction with time. A research team led by Gregory Desvignes from the Max Planck Institute for Radio Astronomy in Bonn, Germany, has used radio observations of the source PSR J1906+0746 to reconstruct the polarised emission over the pulsar's magnetic pole and to predict the disappearance of the detectable emission by 2028. Observations of this system confirm the validity of a 50-year old model that relates the pulsar's radiation to its geometry. The researchers are also able to precisely measure the rate of change in spin direction and find an excellent agreement with the predictions of Einstein's general theory of relativity.\n",
       "                 <div class=\"ads\">\n",
       " <script async=\"\" src=\"//pagead2.googlesyndication.com/pagead/js/adsbygoogle.js\"></script>\n",
       " <!-- Phys - Mobile - News page top -->\n",
       " <ins class=\"adsbygoogle\" data-ad-client=\"ca-pub-0536483524803400\" data-ad-format=\"auto\" data-ad-slot=\"9615253934\" style=\"display:block\"></ins>\n",
       " <script>\n",
       " \t (adsbygoogle = window.adsbygoogle || []).push({});\n",
       " \t </script>\n",
       " </div>\n",
       " <p>The experiment is the most challenging test to date of this important effect of relativistic spin precession for strongly self-gravitating bodies. Moreover, the reconstructed radio beam shape has implications for the population of neutron stars and the expected rate of neutron star mergers as observed by gravitational wave detectors such as LIGO.</p>\n",
       " <p>The results are published in <i>Science</i>, issue 6 September 2019.</p>\n",
       " <p>Pulsars are fast-spinning neutron stars that concentrate 40 percent more mass than the Sun—or more! – into a small sphere of only about 20 km diameter. They have extremely <a class=\"textTag\" href=\"https://phys.org/tags/strong+magnetic+fields/\" rel=\"tag\">strong magnetic fields</a> and emit a beam of radio waves along their magnetic axes above each of their opposite magnetic poles. Due to their stable rotation, a lighthouse effect produces pulsed signals that arrive on Earth with the accuracy of an atomic clock. The large mass, the compactness of the source, and the clock-like properties allows astronomers to use them as laboratories to test Einstein's general theory of relativity.</p>\n",
       " <figure class=\"mlt-block image-block\">\n",
       " <video class=\"centered\" controls=\"\" id=\"jwVID57988\" poster=\"https://scx1.b-cdn.net/gfx/video_tmb/2019/5d7216f16db2a.mp4.jpg\">\n",
       " <source src=\"https://scx2.b-cdn.net/gfx/video/2019/5d7216f16db2a.mp4\" type=\"video/mp4\"/>\n",
       " </video>\n",
       " <figcaption class=\"desc\">Representation of the precessing pulsar J1906+0746 (with the spin vector in red color) around the total angular momentum vector (blue vector). Two radio beams are emitted above the opposite magnetic poles of the pulsar, along the magnetic axis (grey arrow). As the radio beams cross through our line of sight, we can reconstruct the emission maps of the beams as shown with the circular maps at the edges of the two beams. Credit: Gregory Desvignes (MPIfR Bonn / Paris Observatory)</figcaption> </figure><p>The theory predicts that spacetime is curved by massive bodies such as pulsars. One expected consequence is the effect of relativistic spin precession in binary pulsars. The effect arises from a misalignment of the spin vector of each pulsar with respect to the total angular momentum vector of the binary system, and is most likely caused by an asymmetric supernova explosion. This precession causes the viewing geometry to vary, which can be tested observationally by monitoring systematic changes in the observed pulse profile.</p>\n",
       " <p>Evidence for a variable pulse profile attributed to changes in the viewing geometry caused by spin precession have been observed and modeled in the Nobel-prize winning Hulse-Taylor binary pulsar B1913+16. Other binary pulsars also show the effect, but none of them has allowed studies at the precision and level of detail obtainable with PSR J1906+0746.</p>\n",
       " <p>The target is a young pulsar with a spin period of 144 milliseconds in a 4-hour orbit around another neutron star in the direction of the constellation Aquila (the Eagle), pretty close to the plane of the Milky Way.</p>\n",
       " <div class=\"ads\">\n",
       " <script async=\"\" src=\"//pagead2.googlesyndication.com/pagead/js/adsbygoogle.js\"></script>\n",
       " <!-- PhysOrg pda_android CSi (below text) -->\n",
       " <ins class=\"adsbygoogle\" data-ad-client=\"ca-pub-0536483524803400\" data-ad-format=\"rectangle\" data-ad-slot=\"3976320732\" style=\"display:block;min-width:300px;max-width:336px;width:100%;\"></ins>\n",
       " <script>\n",
       " \t (adsbygoogle = window.adsbygoogle || []).push({});\n",
       " \t </script>\n",
       " </div>\n",
       " <p>\"PSR J1906+0746 is a unique laboratory in which we can simultaneously constrain the radio pulsar emission physics and test Einstein's general theory of relativity,\" says Gregory Desvignes from the Max Planck Institute for Radio Astronomy (MPIfR) in Bonn, the first author of the study.</p>\n",
       " <p>The research team monitored the pulsar from 2012 to 2018 with the 305-m Arecibo radio telescope at a frequency of 1.4 GHz. Those observations were supplemented with archival data from the Nançay and Arecibo radio telescopes recorded between 2005 and 2009. In total, the available dataset comprises 47 epochs spanning from July 2005 to June 2018.</p>\n",
       " <p>The team noticed that initially it was possible to observe the pulsar's opposite magnetic poles, when both Northern and Southern beams (referred to as the main pulse and interpulse in the study) were pointed to Earth once per rotation. With time, the Northern beam disappeared and only the Southern beam remained visible.  Based on a detailed study of the polarization information of the received emission, it was possible to apply a 50-year old model, predicting that the polarization properties encoded information about the geometry of the pulsar. The pulsar data validated the model and also allowed the team to measure the rate of precession with only 5 percent uncertainty level, tighter than the precession rate measurement in the Double Pulsar system, a reference system for such tests so far. The measured value agrees perfectly with the prediction of Einstein's theory.</p>\n",
       " <p>\"Pulsars can provide tests of gravity that cannot be done in any other way,\" says Ingrid Stairs from the University of British Columbia in Vancouver, a co-author of the study. \"This is one more beautiful example of such a test.\"</p>\n",
       " <p>Moreover, the team can predict the disappearance and reappearance of both, Northern and Southern beam of PSR J1906+0746.  The Southern beam will disappear from the line of sight around 2028 and reappear between 2070 to 2090. The Northern beam should reappear around 2085–2105.</p>\n",
       " <p>The 14-year-long experiment also provided exciting insight into the little-understood workings of pulsars themselves. The team realized that our Earth's line of sight had crossed the magnetic pole in a North-South direction, allowing not only a map of the pulsar beam, but also a study of the conditions for radio emission right above the magnetic pole.</p>\n",
       " <p>\" It is very gratifying that, after several decades, our line of sight is crossing a pulsar's magnetic pole for the first time, demonstrating the validity of a model proposed in 1969,\" explains Kejia Lee from the Kavli Institute for Astronomy and Astrophysics, Peking University, Beijing, another co-author of the paper. \"In contrast, the beam shape is really irregular and unexpected.\"</p>\n",
       " <p>The beam map reveals the true extent of the pulsar beam which determines the portion of sky illuminated by the <a class=\"textTag\" href=\"https://phys.org/tags/beam/\" rel=\"tag\">beam</a>. This parameter affects the predicted number of the galactic double neutron stars population and, hence, the expected gravitational wave detection rate for neutron star mergers.</p>\n",
       " <p>\"The experiment took us a long time to complete,\" concludes Michael Kramer, director and head of MPIfR's \"Fundamental Physics in Radio Astronomy\" research department. \"These days, sadly, results have to be often quick and fast, whereas this <a class=\"textTag\" href=\"https://phys.org/tags/pulsar/\" rel=\"tag\">pulsar</a> teaches us so much. Being patient and diligent has really paid off.\"\n",
       "                          <div class=\"ads\">\n",
       " <script async=\"\" src=\"//pagead2.googlesyndication.com/pagead/js/adsbygoogle.js\"></script>\n",
       " <!-- PhysOrg pda_android CSi (below text) -->\n",
       " <ins class=\"adsbygoogle\" data-ad-client=\"ca-pub-0536483524803400\" data-ad-format=\"rectangle\" data-ad-slot=\"3976320732\" style=\"display:block;min-width:300px;max-width:336px;width:100%;\"></ins>\n",
       " <script>\n",
       " \t (adsbygoogle = window.adsbygoogle || []).push({});\n",
       " \t </script>\n",
       " </div>\n",
       " <p>\n",
       " <b>More information:</b> Gregory Desvignes et al. Radio emission from a pulsar's magnetic pole revealed by general relativity, <i>Science</i> (2019). <a data-doi=\"1\" href=\"http://dx.doi.org/10.1126/science.aav7272\" target=\"_blank\">DOI: 10.1126/science.aav7272</a>\n",
       " </p>\n",
       " <p>\n",
       " <strong>Journal information:</strong>\n",
       " <a href=\"https://m.phys.org/journals/science/\">Science</a>\n",
       " </p>\n",
       " <p>\n",
       " <b>Provided by</b>\n",
       " <a href=\"https://m.phys.org/partners/max-planck-society/\">Max Planck Society</a>\n",
       " </p>\n",
       " </p></p>,\n",
       " <p>The experiment is the most challenging test to date of this important effect of relativistic spin precession for strongly self-gravitating bodies. Moreover, the reconstructed radio beam shape has implications for the population of neutron stars and the expected rate of neutron star mergers as observed by gravitational wave detectors such as LIGO.</p>,\n",
       " <p>The results are published in <i>Science</i>, issue 6 September 2019.</p>,\n",
       " <p>Pulsars are fast-spinning neutron stars that concentrate 40 percent more mass than the Sun—or more! – into a small sphere of only about 20 km diameter. They have extremely <a class=\"textTag\" href=\"https://phys.org/tags/strong+magnetic+fields/\" rel=\"tag\">strong magnetic fields</a> and emit a beam of radio waves along their magnetic axes above each of their opposite magnetic poles. Due to their stable rotation, a lighthouse effect produces pulsed signals that arrive on Earth with the accuracy of an atomic clock. The large mass, the compactness of the source, and the clock-like properties allows astronomers to use them as laboratories to test Einstein's general theory of relativity.</p>,\n",
       " <p>The theory predicts that spacetime is curved by massive bodies such as pulsars. One expected consequence is the effect of relativistic spin precession in binary pulsars. The effect arises from a misalignment of the spin vector of each pulsar with respect to the total angular momentum vector of the binary system, and is most likely caused by an asymmetric supernova explosion. This precession causes the viewing geometry to vary, which can be tested observationally by monitoring systematic changes in the observed pulse profile.</p>,\n",
       " <p>Evidence for a variable pulse profile attributed to changes in the viewing geometry caused by spin precession have been observed and modeled in the Nobel-prize winning Hulse-Taylor binary pulsar B1913+16. Other binary pulsars also show the effect, but none of them has allowed studies at the precision and level of detail obtainable with PSR J1906+0746.</p>,\n",
       " <p>The target is a young pulsar with a spin period of 144 milliseconds in a 4-hour orbit around another neutron star in the direction of the constellation Aquila (the Eagle), pretty close to the plane of the Milky Way.</p>,\n",
       " <p>\"PSR J1906+0746 is a unique laboratory in which we can simultaneously constrain the radio pulsar emission physics and test Einstein's general theory of relativity,\" says Gregory Desvignes from the Max Planck Institute for Radio Astronomy (MPIfR) in Bonn, the first author of the study.</p>,\n",
       " <p>The research team monitored the pulsar from 2012 to 2018 with the 305-m Arecibo radio telescope at a frequency of 1.4 GHz. Those observations were supplemented with archival data from the Nançay and Arecibo radio telescopes recorded between 2005 and 2009. In total, the available dataset comprises 47 epochs spanning from July 2005 to June 2018.</p>,\n",
       " <p>The team noticed that initially it was possible to observe the pulsar's opposite magnetic poles, when both Northern and Southern beams (referred to as the main pulse and interpulse in the study) were pointed to Earth once per rotation. With time, the Northern beam disappeared and only the Southern beam remained visible.  Based on a detailed study of the polarization information of the received emission, it was possible to apply a 50-year old model, predicting that the polarization properties encoded information about the geometry of the pulsar. The pulsar data validated the model and also allowed the team to measure the rate of precession with only 5 percent uncertainty level, tighter than the precession rate measurement in the Double Pulsar system, a reference system for such tests so far. The measured value agrees perfectly with the prediction of Einstein's theory.</p>,\n",
       " <p>\"Pulsars can provide tests of gravity that cannot be done in any other way,\" says Ingrid Stairs from the University of British Columbia in Vancouver, a co-author of the study. \"This is one more beautiful example of such a test.\"</p>,\n",
       " <p>Moreover, the team can predict the disappearance and reappearance of both, Northern and Southern beam of PSR J1906+0746.  The Southern beam will disappear from the line of sight around 2028 and reappear between 2070 to 2090. The Northern beam should reappear around 2085–2105.</p>,\n",
       " <p>The 14-year-long experiment also provided exciting insight into the little-understood workings of pulsars themselves. The team realized that our Earth's line of sight had crossed the magnetic pole in a North-South direction, allowing not only a map of the pulsar beam, but also a study of the conditions for radio emission right above the magnetic pole.</p>,\n",
       " <p>\" It is very gratifying that, after several decades, our line of sight is crossing a pulsar's magnetic pole for the first time, demonstrating the validity of a model proposed in 1969,\" explains Kejia Lee from the Kavli Institute for Astronomy and Astrophysics, Peking University, Beijing, another co-author of the paper. \"In contrast, the beam shape is really irregular and unexpected.\"</p>,\n",
       " <p>The beam map reveals the true extent of the pulsar beam which determines the portion of sky illuminated by the <a class=\"textTag\" href=\"https://phys.org/tags/beam/\" rel=\"tag\">beam</a>. This parameter affects the predicted number of the galactic double neutron stars population and, hence, the expected gravitational wave detection rate for neutron star mergers.</p>,\n",
       " <p>\"The experiment took us a long time to complete,\" concludes Michael Kramer, director and head of MPIfR's \"Fundamental Physics in Radio Astronomy\" research department. \"These days, sadly, results have to be often quick and fast, whereas this <a class=\"textTag\" href=\"https://phys.org/tags/pulsar/\" rel=\"tag\">pulsar</a> teaches us so much. Being patient and diligent has really paid off.\"\n",
       "                          <div class=\"ads\">\n",
       " <script async=\"\" src=\"//pagead2.googlesyndication.com/pagead/js/adsbygoogle.js\"></script>\n",
       " <!-- PhysOrg pda_android CSi (below text) -->\n",
       " <ins class=\"adsbygoogle\" data-ad-client=\"ca-pub-0536483524803400\" data-ad-format=\"rectangle\" data-ad-slot=\"3976320732\" style=\"display:block;min-width:300px;max-width:336px;width:100%;\"></ins>\n",
       " <script>\n",
       " \t (adsbygoogle = window.adsbygoogle || []).push({});\n",
       " \t </script>\n",
       " </div>\n",
       " <p>\n",
       " <b>More information:</b> Gregory Desvignes et al. Radio emission from a pulsar's magnetic pole revealed by general relativity, <i>Science</i> (2019). <a data-doi=\"1\" href=\"http://dx.doi.org/10.1126/science.aav7272\" target=\"_blank\">DOI: 10.1126/science.aav7272</a>\n",
       " </p>\n",
       " <p>\n",
       " <strong>Journal information:</strong>\n",
       " <a href=\"https://m.phys.org/journals/science/\">Science</a>\n",
       " </p>\n",
       " <p>\n",
       " <b>Provided by</b>\n",
       " <a href=\"https://m.phys.org/partners/max-planck-society/\">Max Planck Society</a>\n",
       " </p>\n",
       " </p>,\n",
       " <p>\n",
       " <b>More information:</b> Gregory Desvignes et al. Radio emission from a pulsar's magnetic pole revealed by general relativity, <i>Science</i> (2019). <a data-doi=\"1\" href=\"http://dx.doi.org/10.1126/science.aav7272\" target=\"_blank\">DOI: 10.1126/science.aav7272</a>\n",
       " </p>,\n",
       " <p>\n",
       " <strong>Journal information:</strong>\n",
       " <a href=\"https://m.phys.org/journals/science/\">Science</a>\n",
       " </p>,\n",
       " <p>\n",
       " <b>Provided by</b>\n",
       " <a href=\"https://m.phys.org/partners/max-planck-society/\">Max Planck Society</a>\n",
       " </p>,\n",
       " <p class=\"mb-4\">\n",
       "                 Phys.org™ (formerly Physorg.com) is a leading web-based science, research and technology news service which covers a full range of topics. \n",
       "             </p>,\n",
       " <p class=\"mb-4\">\n",
       "                 Phys.org is a part of <a href=\"https://sciencex.com/\">Science X network</a>.\n",
       "                 With global reach of over 5 million monthly readers and featuring dedicated websites for hard sciences, technology, smedical research and health news,\n",
       "                 the Science X network is one of the largest online communities for science-minded people.\n",
       "             </p>,\n",
       " <p class=\"pb-2\"><small>                   \n",
       "                     What do you think about this particular story? Your feedback will go directly to Science X editors.\n",
       "                    </small></p>,\n",
       " <p class=\"pt-2 pb-1 text-gray\"><small>Your name</small></p>,\n",
       " <p class=\"pt-2 pb-1 text-gray\"><small>Your email</small></p>,\n",
       " <p></p>,\n",
       " <p class=\"mb-4\">\n",
       "                 Phys.org™ (formerly Physorg.com) is a leading web-based science, research and technology news service which covers a full range of topics. \n",
       "             </p>,\n",
       " <p class=\"mb-4\">\n",
       "                 Phys.org is a part of <a href=\"https://sciencex.com/\">Science X network</a>.\n",
       "                 With global reach of over 5 million monthly readers and featuring dedicated websites for hard sciences, technology, smedical research and health news,\n",
       "                 the Science X network is one of the largest online communities for science-minded people.\n",
       "             </p>,\n",
       " <p class=\"pb-2 text-light\">\n",
       "                     Science X Daily and the Weekly Email Newsletter are free features that\n",
       "                     allow you to receive your favorite sci-tech news updates in your email inbox\n",
       "                 </p>,\n",
       " <p>\n",
       "                     This site uses cookies to assist with navigation, analyse your use of our services, and provide content from third parties.\n",
       "                     <a href=\"https://sciencex.com/help/privacy/\" target=\"_blank\">Privacy Policy</a>\n",
       " </p>,\n",
       " <p>\n",
       "                     We would like to send you push notifications with news alerts?\n",
       "                 </p>]"
      ]
     },
     "execution_count": 115,
     "metadata": {},
     "output_type": "execute_result"
    }
   ],
   "source": [
    "soup.findAll('p')"
   ]
  },
  {
   "cell_type": "code",
   "execution_count": 110,
   "metadata": {},
   "outputs": [],
   "source": [
    "text = [p.text.strip() for p in soup.find('article').find_all('p')]"
   ]
  },
  {
   "cell_type": "code",
   "execution_count": 111,
   "metadata": {
    "scrolled": false
   },
   "outputs": [
    {
     "data": {
      "text/plain": [
       "['Pulsars in binary systems are affected by relativistic effects, causing the spin axes of each pulsar to change their direction with time. A research team led by Gregory Desvignes from the Max Planck Institute for Radio Astronomy in Bonn, Germany, has used radio observations of the source PSR J1906+0746 to reconstruct the polarised emission over the pulsar\\'s magnetic pole and to predict the disappearance of the detectable emission by 2028. Observations of this system confirm the validity of a 50-year old model that relates the pulsar\\'s radiation to its geometry. The researchers are also able to precisely measure the rate of change in spin direction and find an excellent agreement with the predictions of Einstein\\'s general theory of relativity.\\n                \\n\\n\\n\\n\\n\\t (adsbygoogle = window.adsbygoogle || []).push({});\\n\\t \\n\\nThe experiment is the most challenging test to date of this important effect of relativistic spin precession for strongly self-gravitating bodies. Moreover, the reconstructed radio beam shape has implications for the population of neutron stars and the expected rate of neutron star mergers as observed by gravitational wave detectors such as LIGO.\\nThe results are published in Science, issue 6 September 2019.\\nPulsars are fast-spinning neutron stars that concentrate 40 percent more mass than the Sun—or more! – into a small sphere of only about 20 km diameter. They have extremely strong magnetic fields and emit a beam of radio waves along their magnetic axes above each of their opposite magnetic poles. Due to their stable rotation, a lighthouse effect produces pulsed signals that arrive on Earth with the accuracy of an atomic clock. The large mass, the compactness of the source, and the clock-like properties allows astronomers to use them as laboratories to test Einstein\\'s general theory of relativity.\\n\\n\\n\\n\\nRepresentation of the precessing pulsar J1906+0746 (with the spin vector in red color) around the total angular momentum vector (blue vector). Two radio beams are emitted above the opposite magnetic poles of the pulsar, along the magnetic axis (grey arrow). As the radio beams cross through our line of sight, we can reconstruct the emission maps of the beams as shown with the circular maps at the edges of the two beams. Credit: Gregory Desvignes (MPIfR Bonn / Paris Observatory) The theory predicts that spacetime is curved by massive bodies such as pulsars. One expected consequence is the effect of relativistic spin precession in binary pulsars. The effect arises from a misalignment of the spin vector of each pulsar with respect to the total angular momentum vector of the binary system, and is most likely caused by an asymmetric supernova explosion. This precession causes the viewing geometry to vary, which can be tested observationally by monitoring systematic changes in the observed pulse profile.\\nEvidence for a variable pulse profile attributed to changes in the viewing geometry caused by spin precession have been observed and modeled in the Nobel-prize winning Hulse-Taylor binary pulsar B1913+16. Other binary pulsars also show the effect, but none of them has allowed studies at the precision and level of detail obtainable with PSR J1906+0746.\\nThe target is a young pulsar with a spin period of 144 milliseconds in a 4-hour orbit around another neutron star in the direction of the constellation Aquila (the Eagle), pretty close to the plane of the Milky Way.\\n\\n\\n\\n\\n\\n\\t (adsbygoogle = window.adsbygoogle || []).push({});\\n\\t \\n\\n\"PSR J1906+0746 is a unique laboratory in which we can simultaneously constrain the radio pulsar emission physics and test Einstein\\'s general theory of relativity,\" says Gregory Desvignes from the Max Planck Institute for Radio Astronomy (MPIfR) in Bonn, the first author of the study.\\nThe research team monitored the pulsar from 2012 to 2018 with the 305-m Arecibo radio telescope at a frequency of 1.4 GHz. Those observations were supplemented with archival data from the Nançay and Arecibo radio telescopes recorded between 2005 and 2009. In total, the available dataset comprises 47 epochs spanning from July 2005 to June 2018.\\nThe team noticed that initially it was possible to observe the pulsar\\'s opposite magnetic poles, when both Northern and Southern beams (referred to as the main pulse and interpulse in the study) were pointed to Earth once per rotation. With time, the Northern beam disappeared and only the Southern beam remained visible.  Based on a detailed study of the polarization information of the received emission, it was possible to apply a 50-year old model, predicting that the polarization properties encoded information about the geometry of the pulsar. The pulsar data validated the model and also allowed the team to measure the rate of precession with only 5 percent uncertainty level, tighter than the precession rate measurement in the Double Pulsar system, a reference system for such tests so far. The measured value agrees perfectly with the prediction of Einstein\\'s theory.\\n\"Pulsars can provide tests of gravity that cannot be done in any other way,\" says Ingrid Stairs from the University of British Columbia in Vancouver, a co-author of the study. \"This is one more beautiful example of such a test.\"\\nMoreover, the team can predict the disappearance and reappearance of both, Northern and Southern beam of PSR J1906+0746.  The Southern beam will disappear from the line of sight around 2028 and reappear between 2070 to 2090. The Northern beam should reappear around 2085–2105.\\nThe 14-year-long experiment also provided exciting insight into the little-understood workings of pulsars themselves. The team realized that our Earth\\'s line of sight had crossed the magnetic pole in a North-South direction, allowing not only a map of the pulsar beam, but also a study of the conditions for radio emission right above the magnetic pole.\\n\" It is very gratifying that, after several decades, our line of sight is crossing a pulsar\\'s magnetic pole for the first time, demonstrating the validity of a model proposed in 1969,\" explains Kejia Lee from the Kavli Institute for Astronomy and Astrophysics, Peking University, Beijing, another co-author of the paper. \"In contrast, the beam shape is really irregular and unexpected.\"\\nThe beam map reveals the true extent of the pulsar beam which determines the portion of sky illuminated by the beam. This parameter affects the predicted number of the galactic double neutron stars population and, hence, the expected gravitational wave detection rate for neutron star mergers.\\n\"The experiment took us a long time to complete,\" concludes Michael Kramer, director and head of MPIfR\\'s \"Fundamental Physics in Radio Astronomy\" research department. \"These days, sadly, results have to be often quick and fast, whereas this pulsar teaches us so much. Being patient and diligent has really paid off.\"\\n                         \\n\\n\\n\\n\\n\\t (adsbygoogle = window.adsbygoogle || []).push({});\\n\\t \\n\\n\\nMore information: Gregory Desvignes et al. Radio emission from a pulsar\\'s magnetic pole revealed by general relativity, Science (2019). DOI: 10.1126/science.aav7272\\n\\n\\nJournal information:\\nScience\\n\\n\\nProvided by\\nMax Planck Society',\n",
       " 'The experiment is the most challenging test to date of this important effect of relativistic spin precession for strongly self-gravitating bodies. Moreover, the reconstructed radio beam shape has implications for the population of neutron stars and the expected rate of neutron star mergers as observed by gravitational wave detectors such as LIGO.',\n",
       " 'The results are published in Science, issue 6 September 2019.',\n",
       " \"Pulsars are fast-spinning neutron stars that concentrate 40 percent more mass than the Sun—or more! – into a small sphere of only about 20 km diameter. They have extremely strong magnetic fields and emit a beam of radio waves along their magnetic axes above each of their opposite magnetic poles. Due to their stable rotation, a lighthouse effect produces pulsed signals that arrive on Earth with the accuracy of an atomic clock. The large mass, the compactness of the source, and the clock-like properties allows astronomers to use them as laboratories to test Einstein's general theory of relativity.\",\n",
       " 'The theory predicts that spacetime is curved by massive bodies such as pulsars. One expected consequence is the effect of relativistic spin precession in binary pulsars. The effect arises from a misalignment of the spin vector of each pulsar with respect to the total angular momentum vector of the binary system, and is most likely caused by an asymmetric supernova explosion. This precession causes the viewing geometry to vary, which can be tested observationally by monitoring systematic changes in the observed pulse profile.',\n",
       " 'Evidence for a variable pulse profile attributed to changes in the viewing geometry caused by spin precession have been observed and modeled in the Nobel-prize winning Hulse-Taylor binary pulsar B1913+16. Other binary pulsars also show the effect, but none of them has allowed studies at the precision and level of detail obtainable with PSR J1906+0746.',\n",
       " 'The target is a young pulsar with a spin period of 144 milliseconds in a 4-hour orbit around another neutron star in the direction of the constellation Aquila (the Eagle), pretty close to the plane of the Milky Way.',\n",
       " '\"PSR J1906+0746 is a unique laboratory in which we can simultaneously constrain the radio pulsar emission physics and test Einstein\\'s general theory of relativity,\" says Gregory Desvignes from the Max Planck Institute for Radio Astronomy (MPIfR) in Bonn, the first author of the study.',\n",
       " 'The research team monitored the pulsar from 2012 to 2018 with the 305-m Arecibo radio telescope at a frequency of 1.4 GHz. Those observations were supplemented with archival data from the Nançay and Arecibo radio telescopes recorded between 2005 and 2009. In total, the available dataset comprises 47 epochs spanning from July 2005 to June 2018.',\n",
       " \"The team noticed that initially it was possible to observe the pulsar's opposite magnetic poles, when both Northern and Southern beams (referred to as the main pulse and interpulse in the study) were pointed to Earth once per rotation. With time, the Northern beam disappeared and only the Southern beam remained visible.  Based on a detailed study of the polarization information of the received emission, it was possible to apply a 50-year old model, predicting that the polarization properties encoded information about the geometry of the pulsar. The pulsar data validated the model and also allowed the team to measure the rate of precession with only 5 percent uncertainty level, tighter than the precession rate measurement in the Double Pulsar system, a reference system for such tests so far. The measured value agrees perfectly with the prediction of Einstein's theory.\",\n",
       " '\"Pulsars can provide tests of gravity that cannot be done in any other way,\" says Ingrid Stairs from the University of British Columbia in Vancouver, a co-author of the study. \"This is one more beautiful example of such a test.\"',\n",
       " 'Moreover, the team can predict the disappearance and reappearance of both, Northern and Southern beam of PSR J1906+0746.  The Southern beam will disappear from the line of sight around 2028 and reappear between 2070 to 2090. The Northern beam should reappear around 2085–2105.',\n",
       " \"The 14-year-long experiment also provided exciting insight into the little-understood workings of pulsars themselves. The team realized that our Earth's line of sight had crossed the magnetic pole in a North-South direction, allowing not only a map of the pulsar beam, but also a study of the conditions for radio emission right above the magnetic pole.\",\n",
       " '\" It is very gratifying that, after several decades, our line of sight is crossing a pulsar\\'s magnetic pole for the first time, demonstrating the validity of a model proposed in 1969,\" explains Kejia Lee from the Kavli Institute for Astronomy and Astrophysics, Peking University, Beijing, another co-author of the paper. \"In contrast, the beam shape is really irregular and unexpected.\"',\n",
       " 'The beam map reveals the true extent of the pulsar beam which determines the portion of sky illuminated by the beam. This parameter affects the predicted number of the galactic double neutron stars population and, hence, the expected gravitational wave detection rate for neutron star mergers.',\n",
       " '\"The experiment took us a long time to complete,\" concludes Michael Kramer, director and head of MPIfR\\'s \"Fundamental Physics in Radio Astronomy\" research department. \"These days, sadly, results have to be often quick and fast, whereas this pulsar teaches us so much. Being patient and diligent has really paid off.\"\\n                         \\n\\n\\n\\n\\n\\t (adsbygoogle = window.adsbygoogle || []).push({});\\n\\t \\n\\n\\nMore information: Gregory Desvignes et al. Radio emission from a pulsar\\'s magnetic pole revealed by general relativity, Science (2019). DOI: 10.1126/science.aav7272\\n\\n\\nJournal information:\\nScience\\n\\n\\nProvided by\\nMax Planck Society',\n",
       " \"More information: Gregory Desvignes et al. Radio emission from a pulsar's magnetic pole revealed by general relativity, Science (2019). DOI: 10.1126/science.aav7272\",\n",
       " 'Journal information:\\nScience',\n",
       " 'Provided by\\nMax Planck Society']"
      ]
     },
     "execution_count": 111,
     "metadata": {},
     "output_type": "execute_result"
    }
   ],
   "source": [
    "text"
   ]
  },
  {
   "cell_type": "code",
   "execution_count": null,
   "metadata": {},
   "outputs": [],
   "source": [
    "def tag_visible(element):\n",
    "    if element.parent.name in ['style', 'script', 'head', 'title', 'meta', '[document]']:\n",
    "        return False\n",
    "    if isinstance(element, Comment):\n",
    "        return False\n",
    "    return True\n",
    "\n",
    "\n",
    "def text_from_html(body):\n",
    "    soup = BeautifulSoup(body, 'html.parser')\n",
    "    texts = soup.findAll(text=True)\n",
    "    visible_texts = filter(tag_visible, texts)  \n",
    "    return u\" \".join(t.strip() for t in visible_texts)\n",
    "\n",
    "html = urllib.request.urlopen('http://www.nytimes.com/2009/12/21/us/21storm.html').read()\n",
    "print(text_from_html(html))"
   ]
  }
 ],
 "metadata": {
  "kernelspec": {
   "display_name": "Python 3",
   "language": "python",
   "name": "python3"
  },
  "language_info": {
   "codemirror_mode": {
    "name": "ipython",
    "version": 3
   },
   "file_extension": ".py",
   "mimetype": "text/x-python",
   "name": "python",
   "nbconvert_exporter": "python",
   "pygments_lexer": "ipython3",
   "version": "3.7.3"
  }
 },
 "nbformat": 4,
 "nbformat_minor": 2
}
